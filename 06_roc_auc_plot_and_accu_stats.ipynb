{
 "cells": [
  {
   "cell_type": "code",
   "execution_count": 1,
   "id": "liquid-colony",
   "metadata": {},
   "outputs": [],
   "source": [
    "import pandas as pd\n",
    "\n",
    "from pathlib import Path\n",
    "from sklearn.metrics import roc_curve, auc\n",
    "from sklearn.metrics import roc_auc_score, accuracy_score\n",
    "import matplotlib.pyplot as plt"
   ]
  },
  {
   "cell_type": "code",
   "execution_count": 2,
   "id": "iraqi-mouth",
   "metadata": {},
   "outputs": [],
   "source": [
    "in_d = Path('input')"
   ]
  },
  {
   "cell_type": "code",
   "execution_count": 3,
   "id": "palestinian-master",
   "metadata": {},
   "outputs": [],
   "source": [
    "preds_df = pd.read_csv('submission.csv')"
   ]
  },
  {
   "cell_type": "code",
   "execution_count": 4,
   "id": "certain-coordinator",
   "metadata": {},
   "outputs": [],
   "source": [
    "targs_df = pd.read_csv(in_d / 'validation_y_0.025.csv')"
   ]
  },
  {
   "cell_type": "code",
   "execution_count": 5,
   "id": "functioning-nudist",
   "metadata": {},
   "outputs": [],
   "source": [
    "df = pd.merge(preds_df, targs_df, on='row_id')"
   ]
  },
  {
   "cell_type": "code",
   "execution_count": 6,
   "id": "subtle-lucas",
   "metadata": {},
   "outputs": [],
   "source": [
    "assert len(df) == len(preds_df) == len(targs_df)"
   ]
  },
  {
   "cell_type": "code",
   "execution_count": 7,
   "id": "swiss-forty",
   "metadata": {},
   "outputs": [
    {
     "data": {
      "text/html": [
       "<div>\n",
       "<style scoped>\n",
       "    .dataframe tbody tr th:only-of-type {\n",
       "        vertical-align: middle;\n",
       "    }\n",
       "\n",
       "    .dataframe tbody tr th {\n",
       "        vertical-align: top;\n",
       "    }\n",
       "\n",
       "    .dataframe thead th {\n",
       "        text-align: right;\n",
       "    }\n",
       "</style>\n",
       "<table border=\"1\" class=\"dataframe\">\n",
       "  <thead>\n",
       "    <tr style=\"text-align: right;\">\n",
       "      <th></th>\n",
       "      <th>row_id</th>\n",
       "      <th>answered_correctly_x</th>\n",
       "      <th>answered_correctly_y</th>\n",
       "      <th>group_num</th>\n",
       "    </tr>\n",
       "  </thead>\n",
       "  <tbody>\n",
       "    <tr>\n",
       "      <th>0</th>\n",
       "      <td>98894519</td>\n",
       "      <td>0.822936</td>\n",
       "      <td>1</td>\n",
       "      <td>0</td>\n",
       "    </tr>\n",
       "    <tr>\n",
       "      <th>1</th>\n",
       "      <td>100441978</td>\n",
       "      <td>0.822936</td>\n",
       "      <td>1</td>\n",
       "      <td>0</td>\n",
       "    </tr>\n",
       "    <tr>\n",
       "      <th>2</th>\n",
       "      <td>100728469</td>\n",
       "      <td>0.541432</td>\n",
       "      <td>0</td>\n",
       "      <td>0</td>\n",
       "    </tr>\n",
       "    <tr>\n",
       "      <th>3</th>\n",
       "      <td>100728470</td>\n",
       "      <td>0.313070</td>\n",
       "      <td>0</td>\n",
       "      <td>0</td>\n",
       "    </tr>\n",
       "    <tr>\n",
       "      <th>4</th>\n",
       "      <td>100728471</td>\n",
       "      <td>0.473335</td>\n",
       "      <td>1</td>\n",
       "      <td>0</td>\n",
       "    </tr>\n",
       "    <tr>\n",
       "      <th>...</th>\n",
       "      <td>...</td>\n",
       "      <td>...</td>\n",
       "      <td>...</td>\n",
       "      <td>...</td>\n",
       "    </tr>\n",
       "    <tr>\n",
       "      <th>2435783</th>\n",
       "      <td>100456109</td>\n",
       "      <td>0.995903</td>\n",
       "      <td>1</td>\n",
       "      <td>9999</td>\n",
       "    </tr>\n",
       "    <tr>\n",
       "      <th>2435784</th>\n",
       "      <td>100456110</td>\n",
       "      <td>0.997503</td>\n",
       "      <td>1</td>\n",
       "      <td>9999</td>\n",
       "    </tr>\n",
       "    <tr>\n",
       "      <th>2435785</th>\n",
       "      <td>100456111</td>\n",
       "      <td>0.761138</td>\n",
       "      <td>1</td>\n",
       "      <td>9999</td>\n",
       "    </tr>\n",
       "    <tr>\n",
       "      <th>2435786</th>\n",
       "      <td>100797490</td>\n",
       "      <td>0.999297</td>\n",
       "      <td>1</td>\n",
       "      <td>9999</td>\n",
       "    </tr>\n",
       "    <tr>\n",
       "      <th>2435787</th>\n",
       "      <td>101165695</td>\n",
       "      <td>0.454585</td>\n",
       "      <td>0</td>\n",
       "      <td>9999</td>\n",
       "    </tr>\n",
       "  </tbody>\n",
       "</table>\n",
       "<p>2435788 rows × 4 columns</p>\n",
       "</div>"
      ],
      "text/plain": [
       "            row_id  answered_correctly_x  answered_correctly_y  group_num\n",
       "0         98894519              0.822936                     1          0\n",
       "1        100441978              0.822936                     1          0\n",
       "2        100728469              0.541432                     0          0\n",
       "3        100728470              0.313070                     0          0\n",
       "4        100728471              0.473335                     1          0\n",
       "...            ...                   ...                   ...        ...\n",
       "2435783  100456109              0.995903                     1       9999\n",
       "2435784  100456110              0.997503                     1       9999\n",
       "2435785  100456111              0.761138                     1       9999\n",
       "2435786  100797490              0.999297                     1       9999\n",
       "2435787  101165695              0.454585                     0       9999\n",
       "\n",
       "[2435788 rows x 4 columns]"
      ]
     },
     "execution_count": 7,
     "metadata": {},
     "output_type": "execute_result"
    }
   ],
   "source": [
    "df"
   ]
  },
  {
   "cell_type": "code",
   "execution_count": 8,
   "id": "organic-shame",
   "metadata": {},
   "outputs": [],
   "source": [
    "fpr, tpr, _ = roc_curve(df.answered_correctly_y, df.answered_correctly_x)"
   ]
  },
  {
   "cell_type": "code",
   "execution_count": 9,
   "id": "satisfied-information",
   "metadata": {},
   "outputs": [],
   "source": [
    "roc_auc = roc_auc_score(df.answered_correctly_y, df.answered_correctly_x)"
   ]
  },
  {
   "cell_type": "code",
   "execution_count": 10,
   "id": "identical-governor",
   "metadata": {},
   "outputs": [
    {
     "data": {
      "image/png": "[encoded data removed]",
      "text/plain": [
       "<Figure size 432x288 with 1 Axes>"
      ]
     },
     "metadata": {
      "needs_background": "light"
     },
     "output_type": "display_data"
    }
   ],
   "source": [
    "plt.figure()\n",
    "lw = 2\n",
    "plt.plot(fpr, tpr, color='darkorange', lw=lw, label='ROC curve (area = %0.2f)' % roc_auc)\n",
    "plt.plot([0, 1], [0, 1], color='navy', lw=lw, linestyle='--')\n",
    "plt.xlim([0.0, 1.0])\n",
    "plt.ylim([0.0, 1.05])\n",
    "plt.xlabel('False Positive Rate')\n",
    "plt.ylabel('True Positive Rate')\n",
    "plt.title('Receiver operating characteristic example')\n",
    "plt.legend(loc=\"lower right\")\n",
    "plt.show()"
   ]
  },
  {
   "cell_type": "code",
   "execution_count": 11,
   "id": "palestinian-cooperation",
   "metadata": {},
   "outputs": [
    {
     "data": {
      "text/plain": [
       "0.7558592948154765"
      ]
     },
     "execution_count": 11,
     "metadata": {},
     "output_type": "execute_result"
    }
   ],
   "source": [
    "accu = accuracy_score(df.answered_correctly_y, df.answered_correctly_x >= 0.5)\n",
    "accu"
   ]
  }
 ],
 "metadata": {
  "kernelspec": {
   "display_name": "Python 3",
   "language": "python",
   "name": "python3"
  },
  "language_info": {
   "codemirror_mode": {
    "name": "ipython",
    "version": 3
   },
   "file_extension": ".py",
   "mimetype": "text/x-python",
   "name": "python",
   "nbconvert_exporter": "python",
   "pygments_lexer": "ipython3",
   "version": "3.8.12"
  }
 },
 "nbformat": 4,
 "nbformat_minor": 5
}
